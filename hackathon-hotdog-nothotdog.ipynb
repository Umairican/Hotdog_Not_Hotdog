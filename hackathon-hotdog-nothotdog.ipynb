{
 "cells": [
  {
   "cell_type": "markdown",
   "id": "buried-blame",
   "metadata": {},
   "source": [
    "# HotDog or NotHotDog\n",
    "\n",
    "This is the code used during a hackathon with General Assembly. The data for the project comes from [Kaggle](https://www.kaggle.com/yashvrdnjain/hotdognothotdog).\n",
    "\n",
    "\n",
    "![Jian-Yang](./assets/jian_yang_hbo_silicon_valley.0.jpeg)\n"
   ]
  },
  {
   "cell_type": "code",
   "execution_count": 2,
   "id": "decreased-individual",
   "metadata": {},
   "outputs": [],
   "source": [
    "# Suppressing deprecation warning\n",
    "import warnings\n",
    "warnings.filterwarnings('ignore')\n",
    "\n",
    "# imports. Gotta bring some mates\n",
    "import matplotlib.pyplot as plt\n",
    "import numpy as np\n",
    "import os\n",
    "import pandas as pd\n",
    "\n",
    "from tensorflow.keras.layers import Dense, Dropout, Flatten, Conv2D, MaxPooling2D\n",
    "from tensorflow.keras.models import Sequential\n",
    "from tensorflow.keras.preprocessing.image import img_to_array, load_img\n",
    "from tensorflow.keras.utils import to_categorical\n",
    "\n",
    "from sklearn.model_selection import train_test_split\n",
    "\n",
    "# For reproducibility\n",
    "np.random.seed(42)"
   ]
  },
  {
   "cell_type": "markdown",
   "id": "owned-soldier",
   "metadata": {},
   "source": [
    "### Uncomment the below for using Tensorflow"
   ]
  },
  {
   "cell_type": "code",
   "execution_count": null,
   "id": "spiritual-lexington",
   "metadata": {},
   "outputs": [],
   "source": [
    "# from tensorflow.keras.preprocessing import image_dataset_from_directory\n",
    "# import tensorflow as tf\n",
    "# from tensorflow.keras import layers"
   ]
  },
  {
   "cell_type": "code",
   "execution_count": 4,
   "id": "assumed-clause",
   "metadata": {
    "tags": []
   },
   "outputs": [
    {
     "name": "stdout",
     "output_type": "stream",
     "text": [
      "1500 pictures converted.\n"
     ]
    }
   ],
   "source": [
    "# create list\n",
    "hotdog = []\n",
    "# define filepath for HotDog class\n",
    "hotdog_path = './data/train/hotdog/'\n",
    "\n",
    "# convert each image to normalized array and store\n",
    "for file in os.listdir(hotdog_path):\n",
    "    #print(file)\n",
    "    #print(dog_path+file)\n",
    "    try:\n",
    "        # target_size automatically resizes each img on import\n",
    "        hotdoggy = load_img(hotdog_path + file, target_size=(256, 256))\n",
    "        hotdog_arr = img_to_array(hotdoggy) / 255\n",
    "        hotdog.append(hotdog_arr)\n",
    "    except:\n",
    "        print(f'Error for file: {file}')\n",
    "\n",
    "print(f'{len(hotdog)} pictures converted.')    "
   ]
  },
  {
   "cell_type": "code",
   "execution_count": 5,
   "id": "lasting-joining",
   "metadata": {
    "tags": []
   },
   "outputs": [
    {
     "name": "stdout",
     "output_type": "stream",
     "text": [
      "1500 pictures converted.\n"
     ]
    }
   ],
   "source": [
    "# create list\n",
    "not_hotdog = []\n",
    "# define filepath for HotDog class\n",
    "not_hotdog_path = './data/train/nothotdog/'\n",
    "\n",
    "# convert each image to normalized array and store\n",
    "for file in os.listdir(not_hotdog_path):\n",
    "    #print(file)\n",
    "    #print(dog_path+file)\n",
    "    try:\n",
    "        # target_size automatically resizes each img on import\n",
    "        notdoggy = load_img(not_hotdog_path + file, target_size=(256, 256))\n",
    "        notdog_arr = img_to_array(notdoggy) / 255\n",
    "        not_hotdog.append(notdog_arr)\n",
    "    except:\n",
    "        print(f'Error for file: {file}')\n",
    "\n",
    "print(f'{len(not_hotdog)} pictures converted.')    "
   ]
  },
  {
   "cell_type": "code",
   "execution_count": 6,
   "id": "african-infrastructure",
   "metadata": {},
   "outputs": [
    {
     "name": "stdout",
     "output_type": "stream",
     "text": [
      "X shape: (3000, 256, 256, 3)\n",
      "y shape: (3000,)\n"
     ]
    }
   ],
   "source": [
    "# X should contain both pictures of scrumptious hot dogs, and far less scrumptious not hot dogs\n",
    "X = hotdog + not_hotdog\n",
    "# convert to array and check shape\n",
    "X = np.array(X)\n",
    "print(f'X shape: {X.shape}')\n",
    "\n",
    "# 0 for hotdog, 1 for not hotdog\n",
    "y = [1] * 1500 + [0] * 1500 \n",
    "\n",
    "# convert to array and check shape\n",
    "y = np.array(y)\n",
    "print(f'y shape: {y.shape}')"
   ]
  },
  {
   "cell_type": "markdown",
   "id": "automatic-mailing",
   "metadata": {},
   "source": [
    "### Train-test splitting"
   ]
  },
  {
   "cell_type": "code",
   "execution_count": 7,
   "id": "backed-pride",
   "metadata": {},
   "outputs": [],
   "source": [
    "X_train, X_test, y_train, y_test = train_test_split(X, y, random_state=42)"
   ]
  },
  {
   "cell_type": "code",
   "execution_count": 8,
   "id": "miniature-toner",
   "metadata": {},
   "outputs": [
    {
     "data": {
      "text/plain": [
       "(2250, 256, 256, 3)"
      ]
     },
     "execution_count": 8,
     "metadata": {},
     "output_type": "execute_result"
    }
   ],
   "source": [
    "X_train.shape"
   ]
  },
  {
   "cell_type": "code",
   "execution_count": 9,
   "id": "muslim-gibson",
   "metadata": {},
   "outputs": [
    {
     "data": {
      "text/plain": [
       "(256, 256, 3)"
      ]
     },
     "execution_count": 9,
     "metadata": {},
     "output_type": "execute_result"
    }
   ],
   "source": [
    "X_train[0].shape"
   ]
  },
  {
   "cell_type": "code",
   "execution_count": 10,
   "id": "excellent-treasury",
   "metadata": {},
   "outputs": [
    {
     "data": {
      "text/plain": [
       "(2250,)"
      ]
     },
     "execution_count": 10,
     "metadata": {},
     "output_type": "execute_result"
    }
   ],
   "source": [
    "y_train.shape"
   ]
  },
  {
   "cell_type": "markdown",
   "id": "positive-greek",
   "metadata": {
    "tags": []
   },
   "source": [
    "## Convolutional Neural Networks\n",
    "\n",
    "CNNs do some complicated math up front to represent images more effectively and in a way that generalizes, allowing us to learn far fewer parameters in later layers.\n",
    "\n",
    "A CNN will generally consist of three types of layers:\n",
    "\n",
    "- Convolutional Layer\n",
    "- Pooling Layer\n",
    "- Densely Connected Layer\n",
    "\n",
    "<img src=\"images/cnn.jpeg\" alt=\"drawing\" width=\"600\"/>\n",
    "\n",
    "[Image source.](https://towardsdatascience.com/a-comprehensive-guide-to-convolutional-neural-networks-the-eli5-way-3bd2b1164a53)\n",
    "\n",
    "### Convolution Layers\n",
    "\n",
    "The convolution layer is where we pass a filter over an image and do some calculation at each step. Specifically, we take pixels that are close to one another, then summarize them with one number. The goal of the convolution layer is to identify important features in our images, like edges.\n",
    "\n",
    "<img src=\"images/convolution.gif\" alt=\"drawing\" width=\"550\"/>\n",
    "\n",
    "[Image source.](https://ujjwalkarn.me/2016/08/11/intuitive-explanation-convnets/)\n",
    "\n",
    "Our hyperparameters here are:\n",
    "- the number of filters to use\n",
    "- the dimensions of the filter\n",
    "\n",
    "**How many filters should we use?** Well, this is a hyperparameter. There's not one great answer, but the idea is that each filter can detect one type of feature in an image (like vertical edges). This may depend on the complexity of your images (simpler images require fewer filters) and usually requires trial and error to identify an adequate value of `filters`. [Source](https://stats.stackexchange.com/questions/196646/what-is-the-significance-of-the-number-of-convolution-filters-in-a-convolutional)\n",
    "\n",
    "### Pooling Layer\n",
    "\n",
    "Remember that CNNs learn far fewer parameters than a regular feed-forward neural network. Most of the \"parameter reduction\" comes from the pooling layer.\n",
    "\n",
    "<img src=\"images/maxpool.png\" alt=\"drawing\" width=\"400\"/>\n",
    "\n",
    "[Image source.](https://ujjwalkarn.me/2016/08/11/intuitive-explanation-convnets/)\n",
    "\n",
    "In Max Pooling, we pass a filter over an image. At each step, we take the maximum value and record it as part of the output.\n",
    "- Average Pooling exists, but is far less frequently used. [Andrew Ng](https://www.deeplearning.ai/deep-learning-specialization/) recommends using Max Pooling.\n",
    "- When pooling, we generally partition the result from the previous layer. That is, the filter does not usually overlap like it does in the convolutional layer.\n",
    "\n",
    "Our hyperparameters here are the **dimensions of the filter we use when pooling**. This is given by `pool_size = (2, 2)` in our example.\n",
    "\n",
    "##### Why use max pooling?\n",
    "1. Reduces the data dimensionality.\n",
    "2. Protects against overfitting by creating a more abstract representation.\n",
    "3. Provides some invariance by ignoring insignificant local changes in the image.\n",
    "\n",
    "### Densely-Connected Layer\n",
    "The densely-connected layer is the exact same as in a normal feed-forward neural network, so we won't spend any time talking about that, **except: remember to pass a `Flatten()` layer before a `Dense()` layer!**"
   ]
  },
  {
   "cell_type": "code",
   "execution_count": 11,
   "id": "gentle-distributor",
   "metadata": {},
   "outputs": [
    {
     "name": "stdout",
     "output_type": "stream",
     "text": [
      "Epoch 1/10\n",
      "36/36 [==============================] - 109s 3s/step - loss: 2.6032 - acc: 0.5192 - val_loss: 0.6056 - val_acc: 0.7013\n",
      "Epoch 2/10\n",
      "36/36 [==============================] - 91s 3s/step - loss: 0.6380 - acc: 0.6513 - val_loss: 0.6075 - val_acc: 0.7000\n",
      "Epoch 3/10\n",
      "36/36 [==============================] - 89s 2s/step - loss: 0.5721 - acc: 0.7078 - val_loss: 0.6084 - val_acc: 0.6813\n",
      "Epoch 4/10\n",
      "36/36 [==============================] - 89s 2s/step - loss: 0.4631 - acc: 0.7958 - val_loss: 0.6178 - val_acc: 0.6987\n",
      "Epoch 5/10\n",
      "36/36 [==============================] - 89s 2s/step - loss: 0.3313 - acc: 0.8639 - val_loss: 0.6646 - val_acc: 0.6907\n",
      "Epoch 6/10\n",
      "36/36 [==============================] - 90s 3s/step - loss: 0.2094 - acc: 0.9284 - val_loss: 0.8287 - val_acc: 0.6760\n",
      "Epoch 7/10\n",
      "36/36 [==============================] - 90s 3s/step - loss: 0.1472 - acc: 0.9537 - val_loss: 0.9349 - val_acc: 0.6773\n",
      "Epoch 8/10\n",
      "36/36 [==============================] - 90s 3s/step - loss: 0.0699 - acc: 0.9846 - val_loss: 1.1816 - val_acc: 0.6693\n",
      "Epoch 9/10\n",
      "36/36 [==============================] - 90s 3s/step - loss: 0.0297 - acc: 0.9963 - val_loss: 1.3202 - val_acc: 0.6867\n",
      "Epoch 10/10\n",
      "36/36 [==============================] - 93s 3s/step - loss: 0.0174 - acc: 0.9967 - val_loss: 1.5287 - val_acc: 0.6760\n"
     ]
    }
   ],
   "source": [
    "# TODO: add early stopping \n",
    "\n",
    "input_shape = (256,256,3)\n",
    "model = Sequential()\n",
    "\n",
    "# conv, pool \n",
    "# 64 filters, (3,3) will need to tune these hyperparameters later\n",
    "# two rounds of feature selection! \n",
    "model.add(Conv2D(64, (3,3), activation='relu', input_shape=input_shape))\n",
    "model.add(MaxPooling2D((2,2)))\n",
    "\n",
    "# conv, pool\n",
    "model.add(Conv2D(64, (3,3), activation='relu'))\n",
    "model.add(MaxPooling2D((2,2)))\n",
    "\n",
    "# flatten/dense, dense layer needs the flat format because it can't handle a matrix\n",
    "model.add(Flatten())\n",
    "model.add(Dense(64, activation='relu'))\n",
    "\n",
    "# dense/output\n",
    "model.add(Dense(1, activation='sigmoid'))\n",
    "\n",
    "model.compile(optimizer='adam', \n",
    "             loss='binary_crossentropy', \n",
    "             metrics=['acc'])\n",
    "\n",
    "results = model.fit(X_train, y_train,\n",
    "         validation_data=(X_test, y_test),\n",
    "         epochs=10,\n",
    "         batch_size=64)"
   ]
  },
  {
   "cell_type": "code",
   "execution_count": 13,
   "id": "paperback-running",
   "metadata": {},
   "outputs": [
    {
     "name": "stdout",
     "output_type": "stream",
     "text": [
      "INFO:tensorflow:Assets written to: ./assets/model/assets\n"
     ]
    }
   ],
   "source": [
    "model.save('./assets/model')"
   ]
  },
  {
   "cell_type": "code",
   "execution_count": 14,
   "id": "magnetic-active",
   "metadata": {},
   "outputs": [
    {
     "name": "stdout",
     "output_type": "stream",
     "text": [
      "Model: \"sequential\"\n",
      "_________________________________________________________________\n",
      "Layer (type)                 Output Shape              Param #   \n",
      "=================================================================\n",
      "conv2d (Conv2D)              (None, 254, 254, 64)      1792      \n",
      "_________________________________________________________________\n",
      "max_pooling2d (MaxPooling2D) (None, 127, 127, 64)      0         \n",
      "_________________________________________________________________\n",
      "conv2d_1 (Conv2D)            (None, 125, 125, 64)      36928     \n",
      "_________________________________________________________________\n",
      "max_pooling2d_1 (MaxPooling2 (None, 62, 62, 64)        0         \n",
      "_________________________________________________________________\n",
      "flatten (Flatten)            (None, 246016)            0         \n",
      "_________________________________________________________________\n",
      "dense (Dense)                (None, 64)                15745088  \n",
      "_________________________________________________________________\n",
      "dense_1 (Dense)              (None, 1)                 65        \n",
      "=================================================================\n",
      "Total params: 15,783,873\n",
      "Trainable params: 15,783,873\n",
      "Non-trainable params: 0\n",
      "_________________________________________________________________\n"
     ]
    }
   ],
   "source": [
    "model.summary()"
   ]
  },
  {
   "cell_type": "code",
   "execution_count": 15,
   "id": "graphic-invention",
   "metadata": {},
   "outputs": [
    {
     "data": {
      "text/plain": [
       "array([[0.00059119]], dtype=float32)"
      ]
     },
     "execution_count": 15,
     "metadata": {},
     "output_type": "execute_result"
    }
   ],
   "source": [
    "model.predict(X_test[0:1])"
   ]
  },
  {
   "cell_type": "code",
   "execution_count": 16,
   "id": "express-decline",
   "metadata": {
    "tags": []
   },
   "outputs": [
    {
     "data": {
      "image/png": "[encoded data removed]",
      "text/plain": [
       "<Figure size 864x576 with 1 Axes>"
      ]
     },
     "metadata": {
      "needs_background": "light"
     },
     "output_type": "display_data"
    }
   ],
   "source": [
    "# Visualize the loss\n",
    "train_loss = results.history['loss']\n",
    "test_loss = results.history['val_loss']\n",
    "\n",
    "plt.figure(figsize=(12, 8))\n",
    "plt.plot(train_loss, label='Training loss', color='navy')\n",
    "plt.plot(test_loss, label='Testing loss', color='skyblue')\n",
    "plt.legend();"
   ]
  },
  {
   "cell_type": "code",
   "execution_count": 17,
   "id": "sound-adelaide",
   "metadata": {
    "tags": []
   },
   "outputs": [
    {
     "data": {
      "image/png": "[encoded data removed]",
      "text/plain": [
       "<Figure size 864x576 with 1 Axes>"
      ]
     },
     "metadata": {
      "needs_background": "light"
     },
     "output_type": "display_data"
    }
   ],
   "source": [
    "# Visualize the accuracy\n",
    "train_acc = results.history['acc']\n",
    "test_acc = results.history['val_acc']\n",
    "\n",
    "plt.figure(figsize=(12, 8))\n",
    "plt.plot(train_acc, label='Training accuracy', color='navy')\n",
    "plt.plot(test_acc, label='Testing accuracy', color='skyblue')\n",
    "plt.legend();"
   ]
  }
 ],
 "metadata": {
  "kernelspec": {
   "display_name": "Python 3",
   "language": "python",
   "name": "python3"
  },
  "language_info": {
   "codemirror_mode": {
    "name": "ipython",
    "version": 3
   },
   "file_extension": ".py",
   "mimetype": "text/x-python",
   "name": "python",
   "nbconvert_exporter": "python",
   "pygments_lexer": "ipython3",
   "version": "3.8.8"
  },
  "varInspector": {
   "cols": {
    "lenName": 16,
    "lenType": 16,
    "lenVar": 40
   },
   "kernels_config": {
    "python": {
     "delete_cmd_postfix": "",
     "delete_cmd_prefix": "del ",
     "library": "var_list.py",
     "varRefreshCmd": "print(var_dic_list())"
    },
    "r": {
     "delete_cmd_postfix": ") ",
     "delete_cmd_prefix": "rm(",
     "library": "var_list.r",
     "varRefreshCmd": "cat(var_dic_list()) "
    }
   },
   "types_to_exclude": [
    "module",
    "function",
    "builtin_function_or_method",
    "instance",
    "_Feature"
   ],
   "window_display": false
  }
 },
 "nbformat": 4,
 "nbformat_minor": 5
}
