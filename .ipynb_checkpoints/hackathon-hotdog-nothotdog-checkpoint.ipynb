{
 "cells": [
  {
   "cell_type": "markdown",
   "id": "moving-chain",
   "metadata": {},
   "source": [
    "# HotDog or NotHotDog\n",
    "\n",
    "This is the code used during a hackathon with General Assembly. The data for the project comes from [Kaggle](https://www.kaggle.com/yashvrdnjain/hotdognothotdog).\n",
    "\n",
    "\n",
    "![Jian-Yang](./assets/jian_yang_hbo_silicon_valley.0.jpeg)\n"
   ]
  },
  {
   "cell_type": "code",
   "execution_count": 2,
   "id": "european-venture",
   "metadata": {},
   "outputs": [],
   "source": [
    "# Suppressing deprecation warning\n",
    "import warnings\n",
    "warnings.filterwarnings('ignore')\n",
    "\n",
    "# imports. Gotta bring some mates\n",
    "import matplotlib.pyplot as plt\n",
    "import numpy as np\n",
    "import os\n",
    "import pandas as pd\n",
    "\n",
    "from tensorflow.keras.layers import Dense, Dropout, Flatten, Conv2D, MaxPooling2D\n",
    "from tensorflow.keras.models import Sequential\n",
    "from tensorflow.keras.preprocessing.image import img_to_array, load_img\n",
    "from tensorflow.keras.utils import to_categorical\n",
    "\n",
    "from sklearn.model_selection import train_test_split\n",
    "\n",
    "# For reproducibility\n",
    "np.random.seed(42)"
   ]
  },
  {
   "cell_type": "markdown",
   "id": "liable-making",
   "metadata": {},
   "source": [
    "### Let's go ahead and upload both image classes from our training data"
   ]
  },
  {
   "cell_type": "code",
   "execution_count": 4,
   "id": "asian-egypt",
   "metadata": {
    "tags": []
   },
   "outputs": [
    {
     "name": "stdout",
     "output_type": "stream",
     "text": [
      "1500 pictures converted.\n"
     ]
    }
   ],
   "source": [
    "# create list\n",
    "hotdog = []\n",
    "# define filepath for HotDog class\n",
    "hotdog_path = './data/train/hotdog/'\n",
    "\n",
    "# convert each image to normalized array and store\n",
    "for file in os.listdir(hotdog_path):\n",
    "    #print(file)\n",
    "    #print(dog_path+file)\n",
    "    try:\n",
    "        # target_size automatically resizes each img on import\n",
    "        hotdoggy = load_img(hotdog_path + file, target_size=(256, 256))\n",
    "        hotdog_arr = img_to_array(hotdoggy) / 255\n",
    "        hotdog.append(hotdog_arr)\n",
    "    except:\n",
    "        print(f'Error for file: {file}')\n",
    "\n",
    "print(f'{len(hotdog)} pictures converted.')    "
   ]
  },
  {
   "cell_type": "code",
   "execution_count": 5,
   "id": "stylish-recycling",
   "metadata": {
    "tags": []
   },
   "outputs": [
    {
     "name": "stdout",
     "output_type": "stream",
     "text": [
      "1500 pictures converted.\n"
     ]
    }
   ],
   "source": [
    "# create list\n",
    "not_hotdog = []\n",
    "# define filepath for HotDog class\n",
    "not_hotdog_path = './data/train/nothotdog/'\n",
    "\n",
    "# convert each image to normalized array and store\n",
    "for file in os.listdir(not_hotdog_path):\n",
    "    #print(file)\n",
    "    #print(dog_path+file)\n",
    "    try:\n",
    "        # target_size automatically resizes each img on import\n",
    "        notdoggy = load_img(not_hotdog_path + file, target_size=(256, 256))\n",
    "        notdog_arr = img_to_array(notdoggy) / 255\n",
    "        not_hotdog.append(notdog_arr)\n",
    "    except:\n",
    "        print(f'Error for file: {file}')\n",
    "\n",
    "print(f'{len(not_hotdog)} pictures converted.')    "
   ]
  },
  {
   "cell_type": "code",
   "execution_count": 6,
   "id": "intended-offering",
   "metadata": {},
   "outputs": [
    {
     "name": "stdout",
     "output_type": "stream",
     "text": [
      "X shape: (3000, 256, 256, 3)\n",
      "y shape: (3000,)\n"
     ]
    }
   ],
   "source": [
    "# X should contain both pictures of scrumptious hot dogs, and far less scrumptious not hot dogs\n",
    "X = hotdog + not_hotdog\n",
    "# convert to array and check shape\n",
    "X = np.array(X)\n",
    "print(f'X shape: {X.shape}')\n",
    "\n",
    "# 0 for hotdog, 1 for not hotdog\n",
    "y = [1] * 1500 + [0] * 1500 \n",
    "\n",
    "# convert to array and check shape\n",
    "y = np.array(y)\n",
    "print(f'y shape: {y.shape}')"
   ]
  },
  {
   "cell_type": "markdown",
   "id": "automotive-nudist",
   "metadata": {},
   "source": [
    "### Train-test splitting"
   ]
  },
  {
   "cell_type": "code",
   "execution_count": 7,
   "id": "demonstrated-longer",
   "metadata": {},
   "outputs": [],
   "source": [
    "X_train, X_test, y_train, y_test = train_test_split(X, y, random_state=42)"
   ]
  },
  {
   "cell_type": "code",
   "execution_count": 8,
   "id": "drawn-running",
   "metadata": {},
   "outputs": [
    {
     "data": {
      "text/plain": [
       "(2250, 256, 256, 3)"
      ]
     },
     "execution_count": 8,
     "metadata": {},
     "output_type": "execute_result"
    }
   ],
   "source": [
    "X_train.shape"
   ]
  },
  {
   "cell_type": "code",
   "execution_count": 9,
   "id": "stainless-criminal",
   "metadata": {},
   "outputs": [
    {
     "data": {
      "text/plain": [
       "(256, 256, 3)"
      ]
     },
     "execution_count": 9,
     "metadata": {},
     "output_type": "execute_result"
    }
   ],
   "source": [
    "X_train[0].shape"
   ]
  },
  {
   "cell_type": "code",
   "execution_count": 10,
   "id": "african-tobacco",
   "metadata": {},
   "outputs": [
    {
     "data": {
      "text/plain": [
       "(2250,)"
      ]
     },
     "execution_count": 10,
     "metadata": {},
     "output_type": "execute_result"
    }
   ],
   "source": [
    "y_train.shape"
   ]
  },
  {
   "cell_type": "markdown",
   "id": "casual-stanley",
   "metadata": {},
   "source": [
    "### Fit and train the model"
   ]
  },
  {
   "cell_type": "code",
   "execution_count": 32,
   "id": "optical-allen",
   "metadata": {},
   "outputs": [
    {
     "name": "stdout",
     "output_type": "stream",
     "text": [
      "Epoch 1/10\n",
      "36/36 [==============================] - 149s 4s/step - loss: 0.8312 - acc: 0.5201 - val_loss: 0.6130 - val_acc: 0.6493\n",
      "Epoch 2/10\n",
      "36/36 [==============================] - 145s 4s/step - loss: 0.6422 - acc: 0.6627 - val_loss: 0.5843 - val_acc: 0.6880\n",
      "Epoch 3/10\n",
      "36/36 [==============================] - 144s 4s/step - loss: 0.5769 - acc: 0.7016 - val_loss: 0.6036 - val_acc: 0.7000\n",
      "Epoch 4/10\n",
      "36/36 [==============================] - 150s 4s/step - loss: 0.5605 - acc: 0.7328 - val_loss: 0.5858 - val_acc: 0.6960\n",
      "Epoch 5/10\n",
      "36/36 [==============================] - 148s 4s/step - loss: 0.5250 - acc: 0.7402 - val_loss: 0.6507 - val_acc: 0.6920\n",
      "Epoch 6/10\n",
      "36/36 [==============================] - 164s 5s/step - loss: 0.4440 - acc: 0.7803 - val_loss: 0.5878 - val_acc: 0.7093\n",
      "Epoch 7/10\n",
      "36/36 [==============================] - 155s 4s/step - loss: 0.3400 - acc: 0.8661 - val_loss: 0.8412 - val_acc: 0.6640\n",
      "Epoch 8/10\n",
      "36/36 [==============================] - 166s 5s/step - loss: 0.3273 - acc: 0.8648 - val_loss: 0.8465 - val_acc: 0.6893\n",
      "Epoch 9/10\n",
      "36/36 [==============================] - 156s 4s/step - loss: 0.1661 - acc: 0.9328 - val_loss: 1.1510 - val_acc: 0.6747\n",
      "Epoch 10/10\n",
      "36/36 [==============================] - 142s 4s/step - loss: 0.1267 - acc: 0.9595 - val_loss: 1.1203 - val_acc: 0.7000\n"
     ]
    }
   ],
   "source": [
    "input_shape = (256,256,3)\n",
    "model = Sequential()\n",
    "\n",
    "# conv, pool \n",
    "# 64 filters, (3,3) will need to tune these hyperparameters later\n",
    "# two rounds of feature selection! \n",
    "model.add(Conv2D(64, (3,3), activation='relu', input_shape=input_shape))\n",
    "model.add(MaxPooling2D((2,2)))\n",
    "\n",
    "# conv, pool\n",
    "model.add(Conv2D(128, (3,3), activation='relu'))\n",
    "model.add(MaxPooling2D((2,2)))\n",
    "\n",
    "# conv, pool\n",
    "model.add(Conv2D(64, (3,3), activation='relu'))\n",
    "model.add(MaxPooling2D((2,2)))\n",
    "\n",
    "# flatten/dense, dense layer needs the flat format because it can't handle a matrix\n",
    "model.add(Flatten())\n",
    "model.add(Dense(64, activation='relu'))\n",
    "\n",
    "# dense/output\n",
    "model.add(Dense(1, activation='sigmoid'))\n",
    "\n",
    "model.compile(optimizer='adam', \n",
    "             loss='binary_crossentropy', \n",
    "             metrics=['acc'])\n",
    "\n",
    "results = model.fit(X_train, y_train,\n",
    "         validation_data=(X_test, y_test),\n",
    "         epochs=10,\n",
    "         batch_size=64)"
   ]
  },
  {
   "cell_type": "code",
   "execution_count": 33,
   "id": "personal-harbor",
   "metadata": {},
   "outputs": [
    {
     "name": "stdout",
     "output_type": "stream",
     "text": [
      "INFO:tensorflow:Assets written to: ./assets/model/assets\n"
     ]
    }
   ],
   "source": [
    "model.save('./assets/model')"
   ]
  },
  {
   "cell_type": "code",
   "execution_count": 34,
   "id": "equipped-circulation",
   "metadata": {},
   "outputs": [
    {
     "name": "stdout",
     "output_type": "stream",
     "text": [
      "Model: \"sequential_6\"\n",
      "_________________________________________________________________\n",
      "Layer (type)                 Output Shape              Param #   \n",
      "=================================================================\n",
      "conv2d_18 (Conv2D)           (None, 254, 254, 64)      1792      \n",
      "_________________________________________________________________\n",
      "max_pooling2d_18 (MaxPooling (None, 127, 127, 64)      0         \n",
      "_________________________________________________________________\n",
      "conv2d_19 (Conv2D)           (None, 125, 125, 128)     73856     \n",
      "_________________________________________________________________\n",
      "max_pooling2d_19 (MaxPooling (None, 62, 62, 128)       0         \n",
      "_________________________________________________________________\n",
      "conv2d_20 (Conv2D)           (None, 60, 60, 64)        73792     \n",
      "_________________________________________________________________\n",
      "max_pooling2d_20 (MaxPooling (None, 30, 30, 64)        0         \n",
      "_________________________________________________________________\n",
      "flatten_7 (Flatten)          (None, 57600)             0         \n",
      "_________________________________________________________________\n",
      "dense_13 (Dense)             (None, 64)                3686464   \n",
      "_________________________________________________________________\n",
      "dense_14 (Dense)             (None, 1)                 65        \n",
      "=================================================================\n",
      "Total params: 3,835,969\n",
      "Trainable params: 3,835,969\n",
      "Non-trainable params: 0\n",
      "_________________________________________________________________\n"
     ]
    }
   ],
   "source": [
    "model.summary()"
   ]
  },
  {
   "cell_type": "code",
   "execution_count": 35,
   "id": "understanding-virus",
   "metadata": {},
   "outputs": [
    {
     "data": {
      "text/plain": [
       "array([[0.00173342]], dtype=float32)"
      ]
     },
     "execution_count": 35,
     "metadata": {},
     "output_type": "execute_result"
    }
   ],
   "source": [
    "model.predict(X_test[0:1])"
   ]
  },
  {
   "cell_type": "code",
   "execution_count": 36,
   "id": "lightweight-weekly",
   "metadata": {
    "tags": []
   },
   "outputs": [
    {
     "data": {
      "image/png": "[encoded data removed]",
      "text/plain": [
       "<Figure size 864x576 with 1 Axes>"
      ]
     },
     "metadata": {
      "needs_background": "light"
     },
     "output_type": "display_data"
    }
   ],
   "source": [
    "# Visualize the loss\n",
    "train_loss = results.history['loss']\n",
    "test_loss = results.history['val_loss']\n",
    "\n",
    "plt.figure(figsize=(12, 8))\n",
    "plt.plot(train_loss, label='Training loss', color='navy')\n",
    "plt.plot(test_loss, label='Testing loss', color='skyblue')\n",
    "plt.legend();"
   ]
  },
  {
   "cell_type": "code",
   "execution_count": 37,
   "id": "functional-toolbox",
   "metadata": {
    "tags": []
   },
   "outputs": [
    {
     "data": {
      "image/png": "[encoded data removed]",
      "text/plain": [
       "<Figure size 864x576 with 1 Axes>"
      ]
     },
     "metadata": {
      "needs_background": "light"
     },
     "output_type": "display_data"
    }
   ],
   "source": [
    "# Visualize the accuracy\n",
    "train_acc = results.history['acc']\n",
    "test_acc = results.history['val_acc']\n",
    "\n",
    "plt.figure(figsize=(12, 8))\n",
    "plt.plot(train_acc, label='Training accuracy', color='navy')\n",
    "plt.plot(test_acc, label='Testing accuracy', color='skyblue')\n",
    "plt.legend();"
   ]
  }
 ],
 "metadata": {
  "kernelspec": {
   "display_name": "Python 3",
   "language": "python",
   "name": "python3"
  },
  "language_info": {
   "codemirror_mode": {
    "name": "ipython",
    "version": 3
   },
   "file_extension": ".py",
   "mimetype": "text/x-python",
   "name": "python",
   "nbconvert_exporter": "python",
   "pygments_lexer": "ipython3",
   "version": "3.8.8"
  },
  "varInspector": {
   "cols": {
    "lenName": 16,
    "lenType": 16,
    "lenVar": 40
   },
   "kernels_config": {
    "python": {
     "delete_cmd_postfix": "",
     "delete_cmd_prefix": "del ",
     "library": "var_list.py",
     "varRefreshCmd": "print(var_dic_list())"
    },
    "r": {
     "delete_cmd_postfix": ") ",
     "delete_cmd_prefix": "rm(",
     "library": "var_list.r",
     "varRefreshCmd": "cat(var_dic_list()) "
    }
   },
   "types_to_exclude": [
    "module",
    "function",
    "builtin_function_or_method",
    "instance",
    "_Feature"
   ],
   "window_display": false
  }
 },
 "nbformat": 4,
 "nbformat_minor": 5
}
