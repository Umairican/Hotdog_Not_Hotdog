{
 "cells": [
  {
   "cell_type": "markdown",
   "id": "operational-purpose",
   "metadata": {},
   "source": [
    "# HotDog or NotHotDog\n",
    "\n",
    "This is the code used during a hackathon with General Assembly. The data for the project comes from [Kaggle](https://www.kaggle.com/yashvrdnjain/hotdognothotdog).\n",
    "\n",
    "\n",
    "![Jian-Yang](./assets/jian_yang_hbo_silicon_valley.0.jpeg)\n"
   ]
  },
  {
   "cell_type": "code",
   "execution_count": 2,
   "id": "furnished-teach",
   "metadata": {},
   "outputs": [],
   "source": [
    "# Suppressing deprecation warning\n",
    "import warnings\n",
    "warnings.filterwarnings('ignore')\n",
    "\n",
    "# imports. Gotta bring some mates\n",
    "import matplotlib.pyplot as plt\n",
    "import numpy as np\n",
    "import os\n",
    "import pandas as pd\n",
    "\n",
    "from tensorflow.keras.layers import Dense, Dropout, Flatten, Conv2D, MaxPooling2D\n",
    "from tensorflow.keras.models import Sequential\n",
    "from tensorflow.keras.preprocessing.image import img_to_array, load_img\n",
    "from tensorflow.keras.utils import to_categorical\n",
    "\n",
    "from sklearn.model_selection import train_test_split\n",
    "\n",
    "# For reproducibility\n",
    "np.random.seed(42)"
   ]
  },
  {
   "cell_type": "markdown",
   "id": "bibliographic-guest",
   "metadata": {},
   "source": [
    "### Uncomment the below for using Tensorflow"
   ]
  },
  {
   "cell_type": "code",
   "execution_count": null,
   "id": "weird-rogers",
   "metadata": {},
   "outputs": [],
   "source": [
    "# from tensorflow.keras.preprocessing import image_dataset_from_directory\n",
    "# import tensorflow as tf\n",
    "# from tensorflow.keras import layers"
   ]
  },
  {
   "cell_type": "code",
   "execution_count": 37,
   "id": "hawaiian-attendance",
   "metadata": {
    "tags": []
   },
   "outputs": [
    {
     "name": "stdout",
     "output_type": "stream",
     "text": [
      "1500 pictures converted.\n"
     ]
    }
   ],
   "source": [
    "# create list\n",
    "hotdog = []\n",
    "# define filepath for HotDog class\n",
    "hotdog_path = './data/hotdog-nothotdog/train/hotdog/'\n",
    "\n",
    "# convert each image to normalized array and store\n",
    "for file in os.listdir(hotdog_path):\n",
    "    #print(file)\n",
    "    #print(dog_path+file)\n",
    "    try:\n",
    "        # target_size automatically resizes each img on import\n",
    "        hotdoggy = load_img(hotdog_path + file, target_size=(256, 256))\n",
    "        hotdog_arr = img_to_array(hotdoggy) / 255\n",
    "        hotdog.append(hotdog_arr)\n",
    "    except:\n",
    "        print(f'Error for file: {file}')\n",
    "\n",
    "print(f'{len(hotdog)} pictures converted.')    "
   ]
  },
  {
   "cell_type": "code",
   "execution_count": 38,
   "id": "imported-russian",
   "metadata": {
    "tags": []
   },
   "outputs": [
    {
     "name": "stdout",
     "output_type": "stream",
     "text": [
      "1500 pictures converted.\n"
     ]
    }
   ],
   "source": [
    "# create list\n",
    "not_hotdog = []\n",
    "# define filepath for HotDog class\n",
    "not_hotdog_path = './data/hotdog-nothotdog/train/nothotdog/'\n",
    "\n",
    "# convert each image to normalized array and store\n",
    "for file in os.listdir(not_hotdog_path):\n",
    "    #print(file)\n",
    "    #print(dog_path+file)\n",
    "    try:\n",
    "        # target_size automatically resizes each img on import\n",
    "        notdoggy = load_img(not_hotdog_path + file, target_size=(256, 256))\n",
    "        notdog_arr = img_to_array(notdoggy) / 255\n",
    "        not_hotdog.append(notdog_arr)\n",
    "    except:\n",
    "        print(f'Error for file: {file}')\n",
    "\n",
    "print(f'{len(not_hotdog)} pictures converted.')    "
   ]
  },
  {
   "cell_type": "code",
   "execution_count": 45,
   "id": "executed-disabled",
   "metadata": {},
   "outputs": [
    {
     "name": "stdout",
     "output_type": "stream",
     "text": [
      "X shape: (3000, 256, 256, 3)\n",
      "y shape: (3000,)\n"
     ]
    }
   ],
   "source": [
    "# X should contain both pictures of scrumptious hot dogs, and far less scrumptious not hot dogs\n",
    "X = hotdog + not_hotdog\n",
    "# convert to array and check shape\n",
    "X = np.array(X)\n",
    "print(f'X shape: {X.shape}')\n",
    "\n",
    "# 0 for hotdog, 1 for not hotdog\n",
    "y = [1] * 1500 + [0] * 1500 \n",
    "\n",
    "# convert to array and check shape\n",
    "y = np.array(y)\n",
    "print(f'y shape: {y.shape}')"
   ]
  },
  {
   "cell_type": "markdown",
   "id": "seeing-analyst",
   "metadata": {},
   "source": [
    "### Train-test splitting"
   ]
  },
  {
   "cell_type": "code",
   "execution_count": 46,
   "id": "under-twist",
   "metadata": {},
   "outputs": [],
   "source": [
    "X_train, X_test, y_train, y_test = train_test_split(X, y, random_state=42)"
   ]
  },
  {
   "cell_type": "code",
   "execution_count": 28,
   "id": "prime-johns",
   "metadata": {},
   "outputs": [
    {
     "data": {
      "text/plain": [
       "(2250, 256, 256, 3)"
      ]
     },
     "execution_count": 28,
     "metadata": {},
     "output_type": "execute_result"
    }
   ],
   "source": [
    "X_train.shape"
   ]
  },
  {
   "cell_type": "code",
   "execution_count": 43,
   "id": "sealed-sphere",
   "metadata": {},
   "outputs": [
    {
     "data": {
      "text/plain": [
       "(256, 256, 3)"
      ]
     },
     "execution_count": 43,
     "metadata": {},
     "output_type": "execute_result"
    }
   ],
   "source": [
    "X_train[0].shape"
   ]
  },
  {
   "cell_type": "code",
   "execution_count": 44,
   "id": "minute-wagon",
   "metadata": {},
   "outputs": [
    {
     "data": {
      "text/plain": [
       "(2250, 2)"
      ]
     },
     "execution_count": 44,
     "metadata": {},
     "output_type": "execute_result"
    }
   ],
   "source": [
    "y_train.shape"
   ]
  },
  {
   "cell_type": "markdown",
   "id": "bulgarian-archives",
   "metadata": {
    "jupyter": {
     "source_hidden": true
    },
    "tags": []
   },
   "source": [
    "## Convolutional Neural Networks\n",
    "\n",
    "CNNs do some complicated math up front to represent images more effectively and in a way that generalizes, allowing us to learn far fewer parameters in later layers.\n",
    "\n",
    "A CNN will generally consist of three types of layers:\n",
    "\n",
    "- Convolutional Layer\n",
    "- Pooling Layer\n",
    "- Densely Connected Layer\n",
    "\n",
    "<img src=\"images/cnn.jpeg\" alt=\"drawing\" width=\"600\"/>\n",
    "\n",
    "[Image source.](https://towardsdatascience.com/a-comprehensive-guide-to-convolutional-neural-networks-the-eli5-way-3bd2b1164a53)\n",
    "\n",
    "### Convolution Layers\n",
    "\n",
    "The convolution layer is where we pass a filter over an image and do some calculation at each step. Specifically, we take pixels that are close to one another, then summarize them with one number. The goal of the convolution layer is to identify important features in our images, like edges.\n",
    "\n",
    "<img src=\"images/convolution.gif\" alt=\"drawing\" width=\"550\"/>\n",
    "\n",
    "[Image source.](https://ujjwalkarn.me/2016/08/11/intuitive-explanation-convnets/)\n",
    "\n",
    "Our hyperparameters here are:\n",
    "- the number of filters to use\n",
    "- the dimensions of the filter\n",
    "\n",
    "**How many filters should we use?** Well, this is a hyperparameter. There's not one great answer, but the idea is that each filter can detect one type of feature in an image (like vertical edges). This may depend on the complexity of your images (simpler images require fewer filters) and usually requires trial and error to identify an adequate value of `filters`. [Source](https://stats.stackexchange.com/questions/196646/what-is-the-significance-of-the-number-of-convolution-filters-in-a-convolutional)\n",
    "\n",
    "### Pooling Layer\n",
    "\n",
    "Remember that CNNs learn far fewer parameters than a regular feed-forward neural network. Most of the \"parameter reduction\" comes from the pooling layer.\n",
    "\n",
    "<img src=\"images/maxpool.png\" alt=\"drawing\" width=\"400\"/>\n",
    "\n",
    "[Image source.](https://ujjwalkarn.me/2016/08/11/intuitive-explanation-convnets/)\n",
    "\n",
    "In Max Pooling, we pass a filter over an image. At each step, we take the maximum value and record it as part of the output.\n",
    "- Average Pooling exists, but is far less frequently used. [Andrew Ng](https://www.deeplearning.ai/deep-learning-specialization/) recommends using Max Pooling.\n",
    "- When pooling, we generally partition the result from the previous layer. That is, the filter does not usually overlap like it does in the convolutional layer.\n",
    "\n",
    "Our hyperparameters here are the **dimensions of the filter we use when pooling**. This is given by `pool_size = (2, 2)` in our example.\n",
    "\n",
    "##### Why use max pooling?\n",
    "1. Reduces the data dimensionality.\n",
    "2. Protects against overfitting by creating a more abstract representation.\n",
    "3. Provides some invariance by ignoring insignificant local changes in the image.\n",
    "\n",
    "### Densely-Connected Layer\n",
    "The densely-connected layer is the exact same as in a normal feed-forward neural network, so we won't spend any time talking about that, **except: remember to pass a `Flatten()` layer before a `Dense()` layer!**"
   ]
  },
  {
   "cell_type": "code",
   "execution_count": 47,
   "id": "medieval-combination",
   "metadata": {},
   "outputs": [
    {
     "name": "stdout",
     "output_type": "stream",
     "text": [
      "Epoch 1/10\n",
      "36/36 [==============================] - 129s 3s/step - loss: 2.0742 - acc: 0.5576 - val_loss: 0.5862 - val_acc: 0.6893\n",
      "Epoch 2/10\n",
      "36/36 [==============================] - 115s 3s/step - loss: 0.5690 - acc: 0.7170 - val_loss: 0.5824 - val_acc: 0.6880\n",
      "Epoch 3/10\n",
      "36/36 [==============================] - 112s 3s/step - loss: 0.5154 - acc: 0.7458 - val_loss: 0.6065 - val_acc: 0.6813\n",
      "Epoch 4/10\n",
      "36/36 [==============================] - 111s 3s/step - loss: 0.3959 - acc: 0.8347 - val_loss: 0.6734 - val_acc: 0.6867\n",
      "Epoch 5/10\n",
      "36/36 [==============================] - 111s 3s/step - loss: 0.2612 - acc: 0.8962 - val_loss: 0.7853 - val_acc: 0.7000\n",
      "Epoch 6/10\n",
      "36/36 [==============================] - 109s 3s/step - loss: 0.1720 - acc: 0.9342 - val_loss: 1.0215 - val_acc: 0.7040\n",
      "Epoch 7/10\n",
      "36/36 [==============================] - 110s 3s/step - loss: 0.0823 - acc: 0.9792 - val_loss: 0.9603 - val_acc: 0.6880\n",
      "Epoch 8/10\n",
      "36/36 [==============================] - 107s 3s/step - loss: 0.0550 - acc: 0.9853 - val_loss: 1.2575 - val_acc: 0.7067\n",
      "Epoch 9/10\n",
      "36/36 [==============================] - 109s 3s/step - loss: 0.0221 - acc: 0.9971 - val_loss: 1.4125 - val_acc: 0.6880\n",
      "Epoch 10/10\n",
      "36/36 [==============================] - 106s 3s/step - loss: 0.0197 - acc: 0.9955 - val_loss: 1.2376 - val_acc: 0.6613\n"
     ]
    }
   ],
   "source": [
    "# TODO: add early stopping \n",
    "\n",
    "input_shape = (256,256,3)\n",
    "model = Sequential()\n",
    "\n",
    "# conv, pool \n",
    "# 64 filters, (3,3) will need to tune these hyperparameters later\n",
    "# two rounds of feature selection! \n",
    "model.add(Conv2D(64, (3,3), activation='relu', input_shape=input_shape))\n",
    "model.add(MaxPooling2D((2,2)))\n",
    "\n",
    "# conv, pool\n",
    "model.add(Conv2D(64, (3,3), activation='relu'))\n",
    "model.add(MaxPooling2D((2,2)))\n",
    "\n",
    "# flatten/dense, dense layer needs the flat format because it can't handle a matrix\n",
    "model.add(Flatten())\n",
    "model.add(Dense(64, activation='relu'))\n",
    "\n",
    "# dense/output\n",
    "model.add(Dense(1, activation='sigmoid'))\n",
    "\n",
    "model.compile(optimizer='adam', \n",
    "             loss='binary_crossentropy', \n",
    "             metrics=['acc'])\n",
    "\n",
    "results = model.fit(X_train, y_train,\n",
    "         validation_data=(X_test, y_test),\n",
    "         epochs=10,\n",
    "         batch_size=64)"
   ]
  },
  {
   "cell_type": "code",
   "execution_count": 52,
   "id": "rough-salad",
   "metadata": {},
   "outputs": [
    {
     "name": "stdout",
     "output_type": "stream",
     "text": [
      "INFO:tensorflow:Assets written to: hnh_rcnn/assets\n"
     ]
    }
   ],
   "source": [
    "model.save('hnh_rcnn')"
   ]
  },
  {
   "cell_type": "code",
   "execution_count": 48,
   "id": "short-uncertainty",
   "metadata": {},
   "outputs": [
    {
     "name": "stdout",
     "output_type": "stream",
     "text": [
      "Model: \"sequential_7\"\n",
      "_________________________________________________________________\n",
      "Layer (type)                 Output Shape              Param #   \n",
      "=================================================================\n",
      "conv2d_14 (Conv2D)           (None, 254, 254, 64)      1792      \n",
      "_________________________________________________________________\n",
      "max_pooling2d_14 (MaxPooling (None, 127, 127, 64)      0         \n",
      "_________________________________________________________________\n",
      "conv2d_15 (Conv2D)           (None, 125, 125, 64)      36928     \n",
      "_________________________________________________________________\n",
      "max_pooling2d_15 (MaxPooling (None, 62, 62, 64)        0         \n",
      "_________________________________________________________________\n",
      "flatten_7 (Flatten)          (None, 246016)            0         \n",
      "_________________________________________________________________\n",
      "dense_13 (Dense)             (None, 64)                15745088  \n",
      "_________________________________________________________________\n",
      "dense_14 (Dense)             (None, 1)                 65        \n",
      "=================================================================\n",
      "Total params: 15,783,873\n",
      "Trainable params: 15,783,873\n",
      "Non-trainable params: 0\n",
      "_________________________________________________________________\n"
     ]
    }
   ],
   "source": [
    "model.summary()"
   ]
  },
  {
   "cell_type": "code",
   "execution_count": 49,
   "id": "parallel-assault",
   "metadata": {},
   "outputs": [
    {
     "data": {
      "text/plain": [
       "array([[0.05059013]], dtype=float32)"
      ]
     },
     "execution_count": 49,
     "metadata": {},
     "output_type": "execute_result"
    }
   ],
   "source": [
    "model.predict(X_test[0:1])"
   ]
  },
  {
   "cell_type": "code",
   "execution_count": 50,
   "id": "fatal-lancaster",
   "metadata": {
    "tags": []
   },
   "outputs": [
    {
     "data": {
      "image/png": "[encoded data removed]",
      "text/plain": [
       "<Figure size 864x576 with 1 Axes>"
      ]
     },
     "metadata": {
      "needs_background": "light"
     },
     "output_type": "display_data"
    }
   ],
   "source": [
    "# Visualize the loss\n",
    "train_loss = results.history['loss']\n",
    "test_loss = results.history['val_loss']\n",
    "\n",
    "plt.figure(figsize=(12, 8))\n",
    "plt.plot(train_loss, label='Training loss', color='navy')\n",
    "plt.plot(test_loss, label='Testing loss', color='skyblue')\n",
    "plt.legend();"
   ]
  },
  {
   "cell_type": "code",
   "execution_count": 51,
   "id": "proprietary-motel",
   "metadata": {
    "tags": []
   },
   "outputs": [
    {
     "data": {
      "image/png": "[encoded data removed]",
      "text/plain": [
       "<Figure size 864x576 with 1 Axes>"
      ]
     },
     "metadata": {
      "needs_background": "light"
     },
     "output_type": "display_data"
    }
   ],
   "source": [
    "# Visualize the accuracy\n",
    "train_acc = results.history['acc']\n",
    "test_acc = results.history['val_acc']\n",
    "\n",
    "plt.figure(figsize=(12, 8))\n",
    "plt.plot(train_acc, label='Training accuracy', color='navy')\n",
    "plt.plot(test_acc, label='Testing accuracy', color='skyblue')\n",
    "plt.legend();"
   ]
  }
 ],
 "metadata": {
  "kernelspec": {
   "display_name": "Python 3",
   "language": "python",
   "name": "python3"
  },
  "language_info": {
   "codemirror_mode": {
    "name": "ipython",
    "version": 3
   },
   "file_extension": ".py",
   "mimetype": "text/x-python",
   "name": "python",
   "nbconvert_exporter": "python",
   "pygments_lexer": "ipython3",
   "version": "3.8.8"
  },
  "varInspector": {
   "cols": {
    "lenName": 16,
    "lenType": 16,
    "lenVar": 40
   },
   "kernels_config": {
    "python": {
     "delete_cmd_postfix": "",
     "delete_cmd_prefix": "del ",
     "library": "var_list.py",
     "varRefreshCmd": "print(var_dic_list())"
    },
    "r": {
     "delete_cmd_postfix": ") ",
     "delete_cmd_prefix": "rm(",
     "library": "var_list.r",
     "varRefreshCmd": "cat(var_dic_list()) "
    }
   },
   "types_to_exclude": [
    "module",
    "function",
    "builtin_function_or_method",
    "instance",
    "_Feature"
   ],
   "window_display": false
  }
 },
 "nbformat": 4,
 "nbformat_minor": 5
}
